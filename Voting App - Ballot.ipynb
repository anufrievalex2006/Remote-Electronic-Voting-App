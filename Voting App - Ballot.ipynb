{
 "cells": [
  {
   "cell_type": "code",
   "execution_count": 3,
   "metadata": {},
   "outputs": [],
   "source": [
    "import flet as f\n",
    "\n",
    "with open('voting.txt', 'r') as inf:\n",
    "    dct = {i.split('-')[0]: i.split('-')[1] for i in inf.read().split('\\n') if i}\n",
    "\n",
    "def main(p: f.Page):\n",
    "    p.title = 'Voting App Ballot - You Decide'\n",
    "    p.window_width = 400\n",
    "    p.window_height = 300\n",
    "    # Getting candidates and number of their votes\n",
    "    cands = list(dct.keys())\n",
    "    votes = list(dct.values())\n",
    "\n",
    "    def exitapp(e):\n",
    "        p.window_destroy() # Exit\n",
    "    \n",
    "    def vote(e):\n",
    "        i = cands.index(candidates.value)\n",
    "        votes[i] = str(int(votes[i])+1)\n",
    "        # File is being overwritten\n",
    "        with open('voting.txt','w') as inf:\n",
    "            for cand,vote in zip(cands,votes):\n",
    "                inf.write(f'{cand}-{vote}\\n')\n",
    "        # Dialogbox\n",
    "        dlg = f.AlertDialog(title=f.Text(value='Thank you!'), on_dismiss=exitapp)\n",
    "        p.dialog = dlg\n",
    "        dlg.open = True\n",
    "        p.update()\n",
    "\n",
    "    cands_radios = [f.Radio(label=i, value=i) for i in dct.keys()]\n",
    "    candidates = f.RadioGroup(content=f.Column(cands_radios))\n",
    "    b = f.FilledButton(text='Vote!', on_click=vote)\n",
    "    p.add(candidates,b)\n",
    "\n",
    "f.app(main)"
   ]
  }
 ],
 "metadata": {
  "kernelspec": {
   "display_name": "Python 3",
   "language": "python",
   "name": "python3"
  },
  "language_info": {
   "codemirror_mode": {
    "name": "ipython",
    "version": 3
   },
   "file_extension": ".py",
   "mimetype": "text/x-python",
   "name": "python",
   "nbconvert_exporter": "python",
   "pygments_lexer": "ipython3",
   "version": "3.11.5"
  },
  "orig_nbformat": 4
 },
 "nbformat": 4,
 "nbformat_minor": 2
}
