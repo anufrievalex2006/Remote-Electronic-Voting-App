{
 "cells": [
  {
   "cell_type": "code",
   "execution_count": 6,
   "metadata": {},
   "outputs": [],
   "source": [
    "import flet as f\n",
    "\n",
    "with open('voting.txt', 'r') as inf:\n",
    "    dct = {i.split('-')[0]: i.split('-')[1] for i in inf.read().split('\\n') if i}\n",
    "\n",
    "def main(p: f.Page):\n",
    "    p.title = 'Voting App'\n",
    "    p.window_width = 640\n",
    "    p.window_height = 480\n",
    "\n",
    "    total = 90\n",
    "    def on_keyboard(e: f.KeyboardEvent):\n",
    "        # Press 1, 2 or 3 to give your vote to a candidate\n",
    "        if e.key in list('123'):\n",
    "            votes[int(e.key)-1].value = str(int(votes[int(e.key)-1].value)+1)\n",
    "            accepted.value = str(int(accepted.value)+1)\n",
    "            # File voting.txt will be overwritten\n",
    "            with open('voting.txt','w') as inf:\n",
    "                for cand,vote in zip(cands,votes):\n",
    "                    inf.write(f'{cand.value}-{vote.value}\\n')\n",
    "        # Press I to get information about candidates and their votes\n",
    "        if e.key == 'I':\n",
    "            txt = 'Summary of votes:\\n'\n",
    "            txt += f'Accepted voting papers: {round(int(accepted.value)*100/total,2)} %\\n\\n'\n",
    "            for cand,vote in zip(cands,votes):\n",
    "                txt += f'{cand.value} - {vote.value} ({round(int(vote.value)*100/total,2)} %)\\n'\n",
    "            dlg = f.AlertDialog(title=f.Text(value=txt))\n",
    "            p.dialog = dlg\n",
    "            dlg.open = True\n",
    "        p.update()\n",
    "        \n",
    "    p.on_keyboard_event = on_keyboard\n",
    "\n",
    "    cands = [f.Text(value=i,size=24) for i in dct.keys()]\n",
    "    votes = [f.Text(value=i,size=24) for i in dct.values()]\n",
    "\n",
    "    acclabel = f.Text(value='Total:',size=24)\n",
    "    accepted = f.Text(value=sum(list(map(int,dct.values()))),size=24,style='bold')\n",
    "    for cand,vote in zip(cands,votes):\n",
    "        p.add(\n",
    "            f.Row(controls=[\n",
    "                cand,\n",
    "                vote\n",
    "            ]),\n",
    "        )\n",
    "    p.add(f.Row(controls=[acclabel,accepted]))\n",
    "\n",
    "f.app(main)"
   ]
  }
 ],
 "metadata": {
  "kernelspec": {
   "display_name": "Python 3",
   "language": "python",
   "name": "python3"
  },
  "language_info": {
   "codemirror_mode": {
    "name": "ipython",
    "version": 3
   },
   "file_extension": ".py",
   "mimetype": "text/x-python",
   "name": "python",
   "nbconvert_exporter": "python",
   "pygments_lexer": "ipython3",
   "version": "3.11.5"
  },
  "orig_nbformat": 4
 },
 "nbformat": 4,
 "nbformat_minor": 2
}
